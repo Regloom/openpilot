{
 "cells": [
  {
   "cell_type": "markdown",
   "metadata": {},
   "source": []
  },
  {
   "cell_type": "code",
   "execution_count": 11,
   "metadata": {},
   "outputs": [],
   "source": [
    "from sympy import *"
   ]
  },
  {
   "cell_type": "code",
   "execution_count": 12,
   "metadata": {},
   "outputs": [
    {
     "data": {
      "text/latex": [
       "$\\displaystyle - \\sin{\\left(x \\right)}$"
      ],
      "text/plain": [
       "-sin(x)"
      ]
     },
     "execution_count": 12,
     "metadata": {},
     "output_type": "execute_result"
    }
   ],
   "source": [
    "x, y, z = symbols('x y z')\n",
    "diff(cos(x))"
   ]
  },
  {
   "cell_type": "code",
   "execution_count": 40,
   "metadata": {},
   "outputs": [
    {
     "data": {
      "text/plain": [
       "[0.5*(vi**2 - 2.0)/a]"
      ]
     },
     "execution_count": 40,
     "metadata": {},
     "output_type": "execute_result"
    }
   ],
   "source": [
    "d,a,vi = symbols('d a vi')\n",
    "solve(-d - 1/a + 1/2*vi**2/a,a)"
   ]
  },
  {
   "cell_type": "code",
   "execution_count": 53,
   "metadata": {},
   "outputs": [
    {
     "data": {
      "text/plain": [
       "-1.125"
      ]
     },
     "execution_count": 53,
     "metadata": {},
     "output_type": "execute_result"
    }
   ],
   "source": [
    "# constant acceleration necessary to stop at 'd' distance from starting velocity 'vi'\n",
    "def accel_to_stop(vi,d):\n",
    "    return -0.5*(vi**2)/d\n",
    "\n",
    "# distance to stop at constant acceleration 'a' from starting velocity 'vl' \n",
    "def distance_to_stop(vi,a):\n",
    "    return -vi**2*0.5/a\n",
    "\n",
    "# d(10,-2)\n",
    "\n",
    "accel_to_stop(15,100)"
   ]
  },
  {
   "attachments": {},
   "cell_type": "markdown",
   "metadata": {},
   "source": [
    "Here's a moving tetrahedral integrator prototype"
   ]
  },
  {
   "cell_type": "code",
   "execution_count": 16,
   "metadata": {},
   "outputs": [
    {
     "name": "stdout",
     "output_type": "stream",
     "text": [
      "380.0\n",
      "0, 0.0, 0.0\n",
      "1, 0.5, 0.5\n",
      "2, 2.0, 2.0\n",
      "3, 4.5, 4.5\n",
      "4, 7.5, 7.5\n",
      "5, 10.5, 10.5\n",
      "6, 13.5, 13.5\n",
      "7, 16.5, 16.5\n",
      "8, 19.5, 19.5\n",
      "9, 22.5, 22.5\n",
      "10, 25.5, 25.5\n",
      "11, 28.5, 28.5\n",
      "12, 31.5, 31.5\n",
      "13, 34.5, 34.5\n",
      "14, 37.5, 37.5\n",
      "15, 40.5, 40.5\n",
      "16, 43.5, 43.5\n",
      "17, 46.5, 46.5\n",
      "18, 49.5, 49.5\n",
      "19, 52.5, 52.5\n",
      "19, 55.0, 55.0\n",
      "18, 56.0, 56.0\n",
      "17, 55.0, 55.0\n",
      "16, 52.5, 52.5\n",
      "15, 49.5, 49.5\n",
      "14, 46.5, 46.5\n",
      "13, 43.5, 43.5\n",
      "12, 40.5, 40.5\n",
      "11, 37.5, 37.5\n",
      "10, 34.5, 34.5\n",
      "9, 31.5, 31.5\n",
      "8, 28.5, 28.5\n",
      "7, 25.5, 25.5\n",
      "6, 22.5, 22.5\n",
      "5, 19.5, 19.5\n",
      "4, 16.5, 16.5\n",
      "3, 13.5, 13.5\n",
      "2, 10.5, 10.5\n",
      "1, 7.5, 7.5\n",
      "0, 4.5, 4.5\n"
     ]
    }
   ],
   "source": [
    "import numpy as np\n",
    "from collections import deque\n",
    "\n",
    "n=20\n",
    "a=np.array(list(range(n))+list(range(n))[::-1])\n",
    "ml=4\n",
    "d=deque(maxlen=ml)\n",
    "\n",
    "\n",
    "\n",
    "print(np.trapz(a))\n",
    "ival = 0.0\n",
    "for i in a:\n",
    "    if len(d) == ml:\n",
    "        ival -= 0.5*(d[0] + d[1])\n",
    "    d.append(i)\n",
    "    if len(d) > 1:\n",
    "        ival += 0.5*(d[-2] + d[-1])\n",
    "    print(', '.join([str(j) for j in [i, ival, np.trapz(np.array(d))]]))"
   ]
  },
  {
   "cell_type": "code",
   "execution_count": 8,
   "metadata": {},
   "outputs": [
    {
     "name": "stdout",
     "output_type": "stream",
     "text": [
      "a_lead_tau = 1.5\n",
      "extrapolate_lead(x_lead, v_lead, a_lead, a_lead_tau) = array([[100.        ,  20.        ],\n",
      "       [101.37927865,  19.86161255],\n",
      "       [105.43518992,  19.4683741 ],\n",
      "       [112.01515068,  18.95028698],\n",
      "       [121.03986525,  18.56512712],\n",
      "       [132.56159163,  18.43476221],\n",
      "       [146.63295347,  18.42069186],\n",
      "       [163.26246887,  18.42038629],\n",
      "       [182.45037045,  18.42038552],\n",
      "       [204.19665891,  18.42038552],\n",
      "       [228.50133424,  18.42038552],\n",
      "       [255.36439646,  18.42038552],\n",
      "       [284.78584555,  18.42038552]])\n",
      "a_lead_tau = 0.75\n",
      "extrapolate_lead(x_lead, v_lead, a_lead, a_lead_tau) = array([[100.        ,  20.        ],\n",
      "       [101.37926125,  19.86136206],\n",
      "       [105.4327152 ,  19.45657896],\n",
      "       [111.98020133,  18.85676005],\n",
      "       [120.84921489,  18.24482789],\n",
      "       [131.99993341,  17.84114963],\n",
      "       [145.51659076,  17.69453325],\n",
      "       [161.46961671,  17.67104413],\n",
      "       [179.87563763,  17.66978008],\n",
      "       [200.73577507,  17.66976348],\n",
      "       [224.05004629,  17.66976345],\n",
      "       [249.81845132,  17.66976345],\n",
      "       [278.04099016,  17.66976345]])\n",
      "a_lead_tau = 0.375\n",
      "extrapolate_lead(x_lead, v_lead, a_lead, a_lead_tau) = array([[100.        ,  20.        ],\n",
      "       [101.37925254,  19.86123664],\n",
      "       [105.43145145,  19.45055474],\n",
      "       [111.96101913,  18.80515494],\n",
      "       [120.72746683,  18.03383525],\n",
      "       [131.55464481,  17.32348476],\n",
      "       [144.42632635,  16.85020129],\n",
      "       [159.45239638,  16.64426219],\n",
      "       [176.73671435,  16.59294526],\n",
      "       [196.31821711,  16.58668469],\n",
      "       [218.20301416,  16.5863725 ],\n",
      "       [242.39146648,  16.5863673 ],\n",
      "       [268.88358088,  16.58636728]])\n"
     ]
    }
   ],
   "source": [
    "import numpy as np\n",
    "def index_function(idx, max_val=192, max_idx=32):\n",
    "  return (max_val) * ((idx/max_idx)**2)\n",
    "N = 12\n",
    "MAX_T = 10.0\n",
    "T_IDXS_LST = [index_function(idx, max_val=MAX_T, max_idx=N) for idx in range(N+1)]\n",
    "\n",
    "T_IDXS = np.array(T_IDXS_LST)\n",
    "\n",
    "T_DIFFS = np.diff(T_IDXS, prepend=[0.])\n",
    "\n",
    "def extrapolate_lead(x_lead, v_lead, a_lead, a_lead_tau):\n",
    "    a_lead_traj = a_lead * np.exp(-a_lead_tau * (T_IDXS**2)/2.)\n",
    "    v_lead_traj = np.clip(v_lead + np.cumsum(T_DIFFS * a_lead_traj), 0.0, 1e8)\n",
    "    x_lead_traj = x_lead + np.cumsum(T_DIFFS * v_lead_traj)\n",
    "    lead_xv = np.column_stack((x_lead_traj, v_lead_traj))\n",
    "    return lead_xv\n",
    "\n",
    "v_lead = 20.0\n",
    "x_lead = 100.0\n",
    "a_lead = -2.0\n",
    "a_lead_tau = 1.5\n",
    "for i in range(3):\n",
    "    print(f\"{a_lead_tau = }\")\n",
    "    print(f\"{extrapolate_lead(x_lead, v_lead, a_lead, a_lead_tau) = }\")\n",
    "    a_lead_tau *= 0.5"
   ]
  },
  {
   "cell_type": "code",
   "execution_count": 10,
   "metadata": {},
   "outputs": [
    {
     "data": {
      "text/plain": [
       "['STEERING_ANGLE',\n",
       " 'DESIRED_STEERING_ANGLE',\n",
       " 'STEERING_ANGLE_ERROR',\n",
       " 'STEERING_TORQUE_EPS',\n",
       " 'ENGINE_RPM',\n",
       " 'ENGINE_RPM_TEMPC',\n",
       " 'ENGINE_RPM_TEMPF',\n",
       " 'COOLANT_TEMPC',\n",
       " 'COOLANT_TEMPF',\n",
       " 'KINETIC_ENERGY',\n",
       " 'ACCELERATION',\n",
       " 'TIME_TO_STOP_CUR',\n",
       " 'TIME_TO_STOP_MIN',\n",
       " 'DIST_TO_STOP_CUR',\n",
       " 'DIST_TO_STOP_MIN',\n",
       " 'DRAG_FORCE',\n",
       " 'DRAG_POWER',\n",
       " 'DRAG_POWER_HP',\n",
       " 'DRAG_LOSSES',\n",
       " 'ACCEL_FORCE',\n",
       " 'ACCEL_POWER',\n",
       " 'ACCEL_POWER_HP',\n",
       " 'EV_FORCE',\n",
       " 'EV_POWER',\n",
       " 'EV_POWER_HP',\n",
       " 'REGEN_FORCE',\n",
       " 'REGEN_POWER',\n",
       " 'REGEN_POWER_HP',\n",
       " 'BRAKE_FORCE',\n",
       " 'BRAKE_POWER',\n",
       " 'BRAKE_POWER_HP',\n",
       " 'DRIVE_POWER',\n",
       " 'DRIVE_POWER_HP',\n",
       " 'ICE_POWER',\n",
       " 'ICE_POWER_HP',\n",
       " 'ALTITUDE',\n",
       " 'BEARING',\n",
       " 'PERCENT_GRADE',\n",
       " 'PERCENT_GRADE_DEVICE',\n",
       " 'ROLL',\n",
       " 'ROLL_DEVICE',\n",
       " 'LANE_WIDTH',\n",
       " 'LANE_DIST_FROM_CENTER',\n",
       " 'DISTANCE_TRAVELED_SESSION',\n",
       " 'DISTANCE_TRAVELED_TOTAL',\n",
       " 'DISTANCE_ENGAGED',\n",
       " 'DISTANCE_ENGAGED_SESSION',\n",
       " 'DISTANCE_ENGAGED_TOTAL',\n",
       " 'DISTANCE_ENGAGED_PERCENT_SESSION',\n",
       " 'DISTANCE_ENGAGED_PERCENT_TOTAL',\n",
       " 'TIME_CAR_RUNNING_SESSION',\n",
       " 'TIME_CAR_RUNNING_TOTAL',\n",
       " 'TIME_OPENPILOT_ENGAGED_SESSION',\n",
       " 'TIME_OPENPILOT_ENGAGED_TOTAL',\n",
       " 'TIME_OPENPILOT_ENGAGED',\n",
       " 'TIME_ENGAGED_PERCENT_SESSION',\n",
       " 'TIME_ENGAGED_PERCENT_TOTAL',\n",
       " 'DISENGAGEMENT_COUNT_SESSION',\n",
       " 'DISENGAGEMENT_COUNT_TOTAL',\n",
       " 'INTERACTION_COUNT_SESSION',\n",
       " 'INTERACTION_COUNT_TOTAL',\n",
       " 'INTERVENTION_COUNT_SESSION',\n",
       " 'INTERVENTION_COUNT_TOTAL',\n",
       " 'DISTRACTION_COUNT_SESSION',\n",
       " 'DISTRACTION_COUNT_TOTAL',\n",
       " 'INTERACTION_DISTANCE',\n",
       " 'INTERVENTION_DISTANCE',\n",
       " 'DISTRACTION_DISTANCE',\n",
       " 'DISTANCE_PER_DISENGAGEMENT_SESSION',\n",
       " 'DISTANCE_PER_DISENGAGEMENT_TOTAL',\n",
       " 'DISTANCE_PER_INTERACTION_SESSION',\n",
       " 'DISTANCE_PER_INTERACTION_TOTAL',\n",
       " 'DISTANCE_PER_INTERVENTION_SESSION',\n",
       " 'DISTANCE_PER_INTERVENTION_TOTAL',\n",
       " 'DISTANCE_PER_DISTRACTION_SESSION',\n",
       " 'DISTANCE_PER_DISTRACTION_TOTAL',\n",
       " 'TIME_PER_DISENGAGEMENT_SESSION',\n",
       " 'TIME_PER_DISENGAGEMENT_TOTAL',\n",
       " 'TIME_PER_INTERACTION_SESSION',\n",
       " 'TIME_PER_INTERACTION_TOTAL',\n",
       " 'TIME_PER_INTERVENTION_SESSION',\n",
       " 'TIME_PER_INTERVENTION_TOTAL',\n",
       " 'TIME_PER_DISTRACTION_SESSION',\n",
       " 'TIME_PER_DISTRACTION_TOTAL',\n",
       " 'INTERACTION_TIMER',\n",
       " 'INTERVENTION_TIMER',\n",
       " 'DISTRACTION_TIMER',\n",
       " 'FOLLOW_LEVEL',\n",
       " 'LEAD_TTC',\n",
       " 'LEAD_DISTANCE_LENGTH',\n",
       " 'LEAD_DISTANCE_TIME',\n",
       " 'LEAD_DESIRED_DISTANCE_LENGTH',\n",
       " 'LEAD_DESIRED_DISTANCE_TIME',\n",
       " 'LEAD_COSTS',\n",
       " 'LEAD_VELOCITY_RELATIVE',\n",
       " 'LEAD_VELOCITY_ABS',\n",
       " 'LANE_POSITION',\n",
       " 'LANE_OFFSET',\n",
       " 'TRAFFIC_COUNT_TOTAL',\n",
       " 'TRAFFIC_COUNT_ONCOMING',\n",
       " 'TRAFFIC_COUNT_ONGOING',\n",
       " 'TRAFFIC_COUNT_STOPPED',\n",
       " 'TRAFFIC_COUNT_ADJACENT_ONGOING',\n",
       " 'TRAFFIC_ADJ_ONGOING_MIN_DISTANCE',\n",
       " 'HVB_VOLTAGE',\n",
       " 'HVB_CURRENT',\n",
       " 'HVB_WATTAGE',\n",
       " 'HVB_WATTVOLT',\n",
       " 'EV_EFF_NOW',\n",
       " 'EV_EFF_RECENT',\n",
       " 'EV_EFF_TRIP',\n",
       " 'EV_CONSUM_NOW',\n",
       " 'EV_CONSUM_RECENT',\n",
       " 'EV_CONSUM_TRIP',\n",
       " 'EV_BOTH_NOW',\n",
       " 'EV_OBSERVED_DRIVETRAIN_EFF',\n",
       " 'CPU_TEMP_AND_PERCENTF',\n",
       " 'CPU_TEMP_AND_PERCENTC',\n",
       " 'CPU_TEMPF',\n",
       " 'CPU_TEMPC',\n",
       " 'CPU_PERCENT',\n",
       " 'MEMORY_TEMPF',\n",
       " 'MEMORY_TEMPC',\n",
       " 'AMBIENT_TEMPF',\n",
       " 'AMBIENT_TEMPC',\n",
       " 'FANSPEED_PERCENT',\n",
       " 'FANSPEED_RPM',\n",
       " 'MEMORY_USAGE_PERCENT',\n",
       " 'FREESPACE_STORAGE',\n",
       " 'DEVICE_BATTERY',\n",
       " 'GPS_ACCURACY',\n",
       " 'VISION_CURLATACCEL',\n",
       " 'VISION_MAXVFORCURCURV',\n",
       " 'VISION_MAXPREDLATACCEL',\n",
       " 'VISION_VF']"
      ]
     },
     "execution_count": 10,
     "metadata": {},
     "output_type": "execute_result"
    }
   ],
   "source": [
    "def parse_UIMeasure_enum(ui_dot_h_path):\n",
    "    with open(ui_dot_h_path, 'r') as f:\n",
    "        data = f.read()\n",
    "    \n",
    "    # Find the UIMeasure enum definition\n",
    "    enum_defs = data.split('typedef enum UIMeasure {')[-1]\n",
    "    enum_defs = enum_defs.split('} UIMeasure;')[0]\n",
    "\n",
    "    # Get a list of enum names from the definition \n",
    "    enum_names = [l.strip().split(',')[0].split(' = ')[0] for l in enum_defs.split('\\n') if len(l.strip()) > 2 and '//' not in l]\n",
    "    \n",
    "    return enum_names[:-1] if len(enum_names) > 1 else enum_names\n",
    "\n",
    "parse_UIMeasure_enum('/Users/haiiro/NoSync/ui.h')\n",
    "    "
   ]
  }
 ],
 "metadata": {
  "kernelspec": {
   "display_name": "Python 3",
   "language": "python",
   "name": "python3"
  },
  "language_info": {
   "codemirror_mode": {
    "name": "ipython",
    "version": 3
   },
   "file_extension": ".py",
   "mimetype": "text/x-python",
   "name": "python",
   "nbconvert_exporter": "python",
   "pygments_lexer": "ipython3",
   "version": "3.8.10"
  },
  "orig_nbformat": 4,
  "vscode": {
   "interpreter": {
    "hash": "32e8e0fb1dd983ea7eec64de5e5a584d128fd817ef42b173c1126c865eeb687b"
   }
  }
 },
 "nbformat": 4,
 "nbformat_minor": 2
}
